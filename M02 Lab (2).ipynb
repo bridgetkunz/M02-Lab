{
 "cells": [
  {
   "cell_type": "markdown",
   "id": "91223a22",
   "metadata": {},
   "source": [
    "# Student Name: Bridget Kunz\n",
    "# File Name: Academic Qualifier\n",
    "# Description: This Python app accepts student names and GPAs and test if the student qualifies for either the Dean's List or the Honor Roll."
   ]
  },
  {
   "cell_type": "code",
   "execution_count": null,
   "id": "5c00048e",
   "metadata": {
    "scrolled": true
   },
   "outputs": [
    {
     "name": "stdout",
     "output_type": "stream",
     "text": [
      "Please enter the student's last name: Brown\n",
      "Please enter the student's first name: Mary\n",
      "Please enter the student's GPA: 4.0\n",
      "Mary Brown has made the Dean's List!\n",
      "Mary Brown has made the Honor Roll!\n"
     ]
    }
   ],
   "source": [
    "last_name = input(\"Please enter the student's last name: \")\n",
    "while last_name != 'ZZZ':\n",
    "    first_name = input(\"Please enter the student's first name: \")\n",
    "    gpa = float(input(\"Please enter the student's GPA: \"))\n",
    "    if gpa >= 3.5:\n",
    "        print(first_name, last_name,\"has made the Dean's List!\")\n",
    "    if gpa >= 3.25:\n",
    "        print(first_name, last_name,\"has made the Honor Roll!\")\n",
    "    else:\n",
    "        break"
   ]
  }
 ],
 "metadata": {
  "kernelspec": {
   "display_name": "Python 3 (ipykernel)",
   "language": "python",
   "name": "python3"
  },
  "language_info": {
   "codemirror_mode": {
    "name": "ipython",
    "version": 3
   },
   "file_extension": ".py",
   "mimetype": "text/x-python",
   "name": "python",
   "nbconvert_exporter": "python",
   "pygments_lexer": "ipython3",
   "version": "3.11.4"
  }
 },
 "nbformat": 4,
 "nbformat_minor": 5
}
